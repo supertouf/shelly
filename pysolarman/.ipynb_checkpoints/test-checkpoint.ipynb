{
 "cells": [
  {
   "cell_type": "code",
   "execution_count": 2,
   "id": "0c37fd9d-f3bb-4e92-886a-524aa55614fa",
   "metadata": {},
   "outputs": [
    {
     "name": "stdout",
     "output_type": "stream",
     "text": [
      "✅ PV1 Voltage: 0.4\n",
      "✅ PV1 Current: 0.0\n",
      "✅ PV2 Voltage: 0.1\n",
      "✅ PV2 Current: 0.0\n",
      "✅ Battery Voltage: 55.83\n",
      "✅ Battery %: 100\n",
      "✅ Battery Power: 1\n",
      "✅ Grid Power: 64900\n",
      "✅ Load Power: 576\n"
     ]
    }
   ],
   "source": [
    "import asyncio\n",
    "import sys\n",
    "\n",
    "registres = {\n",
    "    \"PV1 Voltage\": (0x006D, 0.1),\n",
    "    \"PV1 Current\": (0x006E, 0.1),\n",
    "    \"PV2 Voltage\": (0x006F, 0.1),\n",
    "    \"PV2 Current\": (0x0070, 0.1),\n",
    "    \"Battery Voltage\": (0x00B7, 0.01),\n",
    "    \"Battery %\": (0x00B8, 1),\n",
    "    \"Battery Power\": (0x00BE, 1),  # W\n",
    "    \"Grid Power\": (0x00A9, 1),\n",
    "    \"Load Power\": (0x00B2, 1),\n",
    "}\n",
    "from pysolarman import Solarman\n",
    "\n",
    "async def read_all():\n",
    "    client = Solarman(\n",
    "        address=\"192.168.10.167\",\n",
    "        port=8899,\n",
    "        transport=\"tcp\",\n",
    "        serial=0,\n",
    "        slave=1,\n",
    "        timeout=10\n",
    "    )\n",
    "    await client.open()\n",
    "    try:\n",
    "        for label, (reg, scale) in registres.items():\n",
    "            try:\n",
    "                val = await client.execute(0x03, address=reg, count=1)\n",
    "                print(f\"✅ {label}: {val[0] * scale}\")\n",
    "            except Exception as e:\n",
    "                print(f\"❌ {label}: erreur → {e}\")\n",
    "    finally:\n",
    "        await client.close()\n",
    "\n",
    "await read_all()\n",
    "\n"
   ]
  },
  {
   "cell_type": "code",
   "execution_count": null,
   "id": "f5d3599e-9100-4571-bb81-43ea21952b1e",
   "metadata": {},
   "outputs": [],
   "source": []
  }
 ],
 "metadata": {
  "kernelspec": {
   "display_name": "Python 3 (ipykernel)",
   "language": "python",
   "name": "python3"
  },
  "language_info": {
   "codemirror_mode": {
    "name": "ipython",
    "version": 3
   },
   "file_extension": ".py",
   "mimetype": "text/x-python",
   "name": "python",
   "nbconvert_exporter": "python",
   "pygments_lexer": "ipython3",
   "version": "3.11.5"
  }
 },
 "nbformat": 4,
 "nbformat_minor": 5
}
